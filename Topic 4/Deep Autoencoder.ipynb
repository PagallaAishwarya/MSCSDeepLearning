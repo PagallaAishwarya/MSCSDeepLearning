{
 "cells": [
  {
   "cell_type": "code",
   "execution_count": 3,
   "metadata": {},
   "outputs": [
    {
     "name": "stdout",
     "output_type": "stream",
     "text": [
      "[nltk_data] Downloading package punkt to\n",
      "[nltk_data]     C:\\Users\\aishw\\AppData\\Roaming\\nltk_data...\n",
      "[nltk_data]   Package punkt is already up-to-date!\n"
     ]
    }
   ],
   "source": [
    "import nltk\n",
    "nltk.download('punkt')\n",
    "import numpy as np\n",
    "import pandas as pd\n",
    "from keras.models import Model\n",
    "from keras.layers import Input, Dense\n",
    "from keras.datasets import boston_housing\n",
    "\n",
    "input_img = Input(shape=(5500,))\n",
    "\n",
    "encoded = Dense(4096, activation='relu')(input_img)\n",
    "encoded = Dense(2048, activation='relu')(encoded)\n",
    "encoded = Dense(1024, activation='relu')(encoded)\n",
    "encoded = Dense(512, activation='relu')(encoded)\n",
    "encoded = Dense(256, activation='relu')(encoded)\n",
    "encoded = Dense(128, activation='relu')(encoded)\n",
    "encoded = Dense(64, activation='relu')(encoded)\n",
    "encoded = Dense(32, activation='relu')(encoded)\n",
    "encoded = Dense(16, activation='relu')(encoded)\n",
    "encoded = Dense(8, activation='relu')(encoded)\n",
    "encoded = Dense(4, activation='relu')(encoded)\n",
    "encoded = Dense(2, activation='relu')(encoded)\n",
    "\n",
    "decoded = Dense(4, activation='relu')(encoded)\n",
    "decoded = Dense(8, activation='relu')(decoded)\n",
    "decoded = Dense(16, activation='relu')(decoded)\n",
    "decoded = Dense(32, activation='relu')(decoded)\n",
    "decoded = Dense(64, activation='relu')(decoded)\n",
    "decoded = Dense(128, activation='relu')(decoded)\n",
    "decoded = Dense(256, activation='relu')(decoded)\n",
    "decoded = Dense(512, activation='relu')(decoded)\n",
    "decoded = Dense(1024, activation='relu')(decoded)\n",
    "decoded = Dense(2048, activation='relu')(decoded)\n",
    "decoded = Dense(4096, activation='relu')(decoded)\n",
    "decoded = Dense(5500, activation='sigmoid')(decoded)"
   ]
  },
  {
   "cell_type": "code",
   "execution_count": 4,
   "metadata": {},
   "outputs": [
    {
     "name": "stdout",
     "output_type": "stream",
     "text": [
      "(1096, 5500)\n",
      "(100, 5500)\n"
     ]
    }
   ],
   "source": [
    "df = pd.read_csv(\"data_v2_1096.csv\", encoding=\"utf8\")\n",
    "docs = []\n",
    "labels = []\n",
    "#iterate over every row of the dataframe\n",
    "for index,row in df.iterrows():\n",
    "  docs.append(row[\"sent_text\"])\n",
    "  labels.append(row[\"rule_total\"])\n",
    "fn = 'glove.6B.50d.txt'\n",
    "f = open(fn, encoding=\"utf8\")\n",
    "embeddings_index = dict()\n",
    "for line in f:\n",
    "  values = line.split()\n",
    "  word = values[0]\n",
    "  coefs = np.asarray(values[1:], dtype='float32')\n",
    "  embeddings_index[word] = coefs\n",
    "\n",
    "x_train = np.zeros((index+1,5500));\n",
    "sntidx = 0\n",
    "for sent in docs:\n",
    "  tok = nltk.word_tokenize(sent.lower())\n",
    "  asent = np.zeros((110,50))\n",
    "  wrds = 0\n",
    "  for token in tok:\n",
    "    if token in embeddings_index:\n",
    "      asent[wrds] = embeddings_index[token]\n",
    "      wrds += 1\n",
    "      if wrds == 110:\n",
    "        break\n",
    "  #print asent\n",
    "  x_train[sntidx] = asent.flatten()\n",
    "  sntidx += 1\n",
    "x_test = x_train[100:200]\n",
    "print(x_train.shape)\n",
    "print(x_test.shape)"
   ]
  },
  {
   "cell_type": "markdown",
   "metadata": {},
   "source": [
    "model"
   ]
  },
  {
   "cell_type": "code",
   "execution_count": 5,
   "metadata": {},
   "outputs": [
    {
     "name": "stdout",
     "output_type": "stream",
     "text": [
      "Train on 1096 samples, validate on 100 samples\n",
      "Epoch 1/50\n",
      "1096/1096 [==============================] - 90s 82ms/step - loss: 0.6918 - val_loss: 0.6903\n",
      "Epoch 2/50\n",
      "1096/1096 [==============================] - 79s 72ms/step - loss: 0.6887 - val_loss: 0.6867\n",
      "Epoch 3/50\n",
      "1096/1096 [==============================] - 78s 71ms/step - loss: 0.6842 - val_loss: 0.6803\n",
      "Epoch 4/50\n",
      "1096/1096 [==============================] - 79s 72ms/step - loss: 0.6700 - val_loss: 0.6346\n",
      "Epoch 5/50\n",
      "1096/1096 [==============================] - 80s 73ms/step - loss: -0.1130 - val_loss: -0.4445\n",
      "Epoch 6/50\n",
      "1096/1096 [==============================] - 77s 70ms/step - loss: -0.4334 - val_loss: -0.4579\n",
      "Epoch 7/50\n",
      "1096/1096 [==============================] - 79s 72ms/step - loss: -0.4379 - val_loss: -0.4649\n",
      "Epoch 8/50\n",
      "1096/1096 [==============================] - 78s 71ms/step - loss: -0.4399 - val_loss: -0.4677\n",
      "Epoch 9/50\n",
      "1096/1096 [==============================] - 79s 72ms/step - loss: -0.4410 - val_loss: -0.4657\n",
      "Epoch 10/50\n",
      "1096/1096 [==============================] - 79s 72ms/step - loss: -0.4418 - val_loss: -0.4706\n",
      "Epoch 11/50\n",
      "1096/1096 [==============================] - 80s 73ms/step - loss: -0.4426 - val_loss: -0.4690\n",
      "Epoch 12/50\n",
      "1096/1096 [==============================] - 78s 71ms/step - loss: -0.4428 - val_loss: -0.4708\n",
      "Epoch 13/50\n",
      "1096/1096 [==============================] - 78s 71ms/step - loss: -0.4430 - val_loss: -0.4724\n",
      "Epoch 14/50\n",
      "1096/1096 [==============================] - 77s 70ms/step - loss: -0.4434 - val_loss: -0.4721\n",
      "Epoch 15/50\n",
      "1096/1096 [==============================] - 79s 72ms/step - loss: -0.4440 - val_loss: -0.4727\n",
      "Epoch 16/50\n",
      "1096/1096 [==============================] - 79s 72ms/step - loss: -0.4439 - val_loss: -0.4707\n",
      "Epoch 17/50\n",
      "1096/1096 [==============================] - 78s 71ms/step - loss: -0.4443 - val_loss: -0.4730\n",
      "Epoch 18/50\n",
      "1096/1096 [==============================] - 79s 72ms/step - loss: -0.4445 - val_loss: -0.4666\n",
      "Epoch 19/50\n",
      "1096/1096 [==============================] - 79s 72ms/step - loss: -0.4447 - val_loss: -0.4747\n",
      "Epoch 20/50\n",
      "1096/1096 [==============================] - 77s 71ms/step - loss: -0.4449 - val_loss: -0.4731\n",
      "Epoch 21/50\n",
      "1096/1096 [==============================] - 79s 73ms/step - loss: -0.4450 - val_loss: -0.4716\n",
      "Epoch 22/50\n",
      "1096/1096 [==============================] - 79s 72ms/step - loss: -0.4452 - val_loss: -0.4749\n",
      "Epoch 23/50\n",
      "1096/1096 [==============================] - 78s 71ms/step - loss: -0.4452 - val_loss: -0.4727\n",
      "Epoch 24/50\n",
      "1096/1096 [==============================] - 77s 71ms/step - loss: -0.4454 - val_loss: -0.4710\n",
      "Epoch 25/50\n",
      "1096/1096 [==============================] - 79s 72ms/step - loss: -0.4455 - val_loss: -0.4741\n",
      "Epoch 26/50\n",
      "1096/1096 [==============================] - 77s 70ms/step - loss: -0.4456 - val_loss: -0.4748\n",
      "Epoch 27/50\n",
      "1096/1096 [==============================] - 77s 71ms/step - loss: -0.4458 - val_loss: -0.4732\n",
      "Epoch 28/50\n",
      "1096/1096 [==============================] - 77s 70ms/step - loss: -0.4458 - val_loss: -0.4736\n",
      "Epoch 29/50\n",
      "1096/1096 [==============================] - 77s 70ms/step - loss: -0.4458 - val_loss: -0.4732\n",
      "Epoch 30/50\n",
      "1096/1096 [==============================] - 77s 71ms/step - loss: -0.4461 - val_loss: -0.4761\n",
      "Epoch 31/50\n",
      "1096/1096 [==============================] - 77s 70ms/step - loss: -0.4461 - val_loss: -0.4721\n",
      "Epoch 32/50\n",
      "1096/1096 [==============================] - 77s 70ms/step - loss: -0.4464 - val_loss: -0.4756\n",
      "Epoch 33/50\n",
      "1096/1096 [==============================] - 82s 75ms/step - loss: -0.4465 - val_loss: -0.4743\n",
      "Epoch 34/50\n",
      "1096/1096 [==============================] - 86s 78ms/step - loss: -0.4467 - val_loss: -0.4741\n",
      "Epoch 35/50\n",
      "1096/1096 [==============================] - 80s 73ms/step - loss: -0.4468 - val_loss: -0.4715\n",
      "Epoch 36/50\n",
      "1096/1096 [==============================] - 80s 73ms/step - loss: -0.4465 - val_loss: -0.4736\n",
      "Epoch 37/50\n",
      "1096/1096 [==============================] - 80s 73ms/step - loss: -0.4465 - val_loss: -0.4752\n",
      "Epoch 38/50\n",
      "1096/1096 [==============================] - 78s 71ms/step - loss: -0.4470 - val_loss: -0.4757\n",
      "Epoch 39/50\n",
      "1096/1096 [==============================] - 78s 71ms/step - loss: -0.4472 - val_loss: -0.4712\n",
      "Epoch 40/50\n",
      "1096/1096 [==============================] - 77s 70ms/step - loss: -0.4469 - val_loss: -0.4723\n",
      "Epoch 41/50\n",
      "1096/1096 [==============================] - 78s 71ms/step - loss: -0.4470 - val_loss: -0.4735\n",
      "Epoch 42/50\n",
      "1096/1096 [==============================] - 78s 71ms/step - loss: -0.4473 - val_loss: -0.4720\n",
      "Epoch 43/50\n",
      "1096/1096 [==============================] - 77s 71ms/step - loss: -0.4469 - val_loss: -0.4766\n",
      "Epoch 44/50\n",
      "1096/1096 [==============================] - 81s 74ms/step - loss: -0.4472 - val_loss: -0.4759\n",
      "Epoch 45/50\n",
      "1096/1096 [==============================] - 80s 73ms/step - loss: -0.4478 - val_loss: -0.4736\n",
      "Epoch 46/50\n",
      "1096/1096 [==============================] - 80s 73ms/step - loss: -0.4476 - val_loss: -0.4750\n",
      "Epoch 47/50\n",
      "1096/1096 [==============================] - 82s 75ms/step - loss: -0.4476 - val_loss: -0.4741\n",
      "Epoch 48/50\n",
      "1096/1096 [==============================] - 78s 72ms/step - loss: -0.4475 - val_loss: -0.4750\n",
      "Epoch 49/50\n",
      "1096/1096 [==============================] - 78s 71ms/step - loss: -0.4475 - val_loss: -0.4762\n",
      "Epoch 50/50\n",
      "1096/1096 [==============================] - 78s 71ms/step - loss: -0.4478 - val_loss: -0.4759\n"
     ]
    },
    {
     "data": {
      "text/plain": [
       "<keras.callbacks.History at 0x1b0dc8ed2e8>"
      ]
     },
     "execution_count": 5,
     "metadata": {},
     "output_type": "execute_result"
    }
   ],
   "source": [
    "autoencoder = Model(input_img, decoded)\n",
    "autoencoder.compile(optimizer='adadelta', loss='binary_crossentropy')\n",
    "\n",
    "autoencoder.fit(x_train, x_train,\n",
    "                epochs=50,\n",
    "                batch_size=32,\n",
    "                shuffle=True,\n",
    "                validation_data=(x_test, x_test))"
   ]
  },
  {
   "cell_type": "code",
   "execution_count": 9,
   "metadata": {},
   "outputs": [
    {
     "ename": "SyntaxError",
     "evalue": "invalid syntax (<ipython-input-9-36a88719ded1>, line 6)",
     "output_type": "error",
     "traceback": [
      "\u001b[1;36m  File \u001b[1;32m\"<ipython-input-9-36a88719ded1>\"\u001b[1;36m, line \u001b[1;32m6\u001b[0m\n\u001b[1;33m    plt.scatter(encoded[], c=labels, alpha=0.5)\u001b[0m\n\u001b[1;37m                        ^\u001b[0m\n\u001b[1;31mSyntaxError\u001b[0m\u001b[1;31m:\u001b[0m invalid syntax\n"
     ]
    }
   ],
  
  },
  {
   "cell_type": "code",
   "execution_count": null,
   "metadata": {},
   "outputs": [],
   "source": []
  }
 ],
 "metadata": {
  "kernelspec": {
   "display_name": "Python 3",
   "language": "python",
   "name": "python3"
  },
  "language_info": {
   "codemirror_mode": {
    "name": "ipython",
    "version": 3
   },
   "file_extension": ".py",
   "mimetype": "text/x-python",
   "name": "python",
   "nbconvert_exporter": "python",
   "pygments_lexer": "ipython3",
   "version": "3.6.5"
  }
 },
 "nbformat": 4,
 "nbformat_minor": 2
}
