{
 "cells": [
  {
   "cell_type": "markdown",
   "metadata": {},
   "source": [
    "this is notebook  with autoencoders "
   ]
  },
  {
   "cell_type": "code",
   "execution_count": 3,
   "metadata": {},
   "outputs": [
    {
     "name": "stdout",
     "output_type": "stream",
     "text": [
      "[nltk_data] Downloading package punkt to\n",
      "[nltk_data]     C:\\Users\\aishw\\AppData\\Roaming\\nltk_data...\n",
      "[nltk_data]   Package punkt is already up-to-date!\n"
     ]
    },
    {
     "name": "stderr",
     "output_type": "stream",
     "text": [
      "C:\\Users\\aishw\\Anaconda3\\lib\\site-packages\\h5py\\__init__.py:36: FutureWarning: Conversion of the second argument of issubdtype from `float` to `np.floating` is deprecated. In future, it will be treated as `np.float64 == np.dtype(float).type`.\n",
      "  from ._conv import register_converters as _register_converters\n",
      "Using TensorFlow backend.\n"
     ]
    }
   ],
   "source": [
    "import nltk\n",
    "nltk.download('punkt')\n",
    "import pandas as pd \n",
    "import numpy as np\n",
    "from keras.models import Model\n",
    "from keras.layers import Input, Dense\n",
    "from keras.preprocessing.text import Tokenizer\n",
    "from keras.preprocessing.sequence import pad_sequences"
   ]
  },
  {
   "cell_type": "code",
   "execution_count": 4,
   "metadata": {},
   "outputs": [],
   "source": [
    "input1= Input(shape=(5500,))"
   ]
  },
  {
   "cell_type": "code",
   "execution_count": 5,
   "metadata": {},
   "outputs": [],
   "source": [
    "encoding_dim = 2"
   ]
  },
  {
   "cell_type": "code",
   "execution_count": 6,
   "metadata": {},
   "outputs": [],
   "source": [
    "encoded = Dense(encoding_dim, activation='relu')(input1)"
   ]
  },
  {
   "cell_type": "code",
   "execution_count": 7,
   "metadata": {},
   "outputs": [],
   "source": [
    "decoded = Dense(5500, activation='sigmoid')(encoded)"
   ]
  },
  {
   "cell_type": "code",
   "execution_count": 8,
   "metadata": {},
   "outputs": [],
   "source": [
    "autoencoder = Model(input1, decoded)"
   ]
  },
  {
   "cell_type": "code",
   "execution_count": 9,
   "metadata": {},
   "outputs": [],
   "source": [
    "encoder = Model(input1, encoded)"
   ]
  },
  {
   "cell_type": "code",
   "execution_count": 10,
   "metadata": {},
   "outputs": [],
   "source": [
    "encoded_input = Input(shape=(encoding_dim,))"
   ]
  },
  {
   "cell_type": "code",
   "execution_count": 11,
   "metadata": {},
   "outputs": [],
   "source": [
    "decoder_layer = autoencoder.layers[-1]"
   ]
  },
  {
   "cell_type": "code",
   "execution_count": 12,
   "metadata": {},
   "outputs": [],
   "source": [
    "#Decoder Model\n",
    "decoder = Model(encoded_input, decoder_layer(encoded_input))"
   ]
  },
  {
   "cell_type": "code",
   "execution_count": 13,
   "metadata": {},
   "outputs": [],
   "source": [
    "autoencoder.compile(optimizer='adadelta', loss='binary_crossentropy')"
   ]
  },
  {
   "cell_type": "code",
   "execution_count": 21,
   "metadata": {},
   "outputs": [
    {
     "name": "stdout",
     "output_type": "stream",
     "text": [
      "(1096, 5500)\n",
      "(100, 5500)\n"
     ]
    }
   ],
   "source": [
    "df = pd.read_csv(\"data_v2_1096.csv\", encoding=\"utf8\")\n",
    "docs = []\n",
    "#iterate over every row of the dataframe\n",
    "for index,row in df.iterrows():\n",
    "  docs.append(row[\"sent_text\"])\n",
    "\n",
    "fn = 'glove.6B.50d.txt'\n",
    "f = open(fn, encoding=\"utf8\")\n",
    "embeddings_index = dict()\n",
    "for line in f:\n",
    "  values = line.split()\n",
    "  word = values[0]\n",
    "  coefs = np.asarray(values[1:], dtype='float32')\n",
    "  embeddings_index[word] = coefs\n",
    "\n",
    "x_train = np.zeros((index+1,5500));\n",
    "sntidx = 0\n",
    "for sent in docs:\n",
    "  tok = nltk.word_tokenize(sent.lower())\n",
    "  asent = np.zeros((110,50))\n",
    "  wrds = 0\n",
    "  for token in tok:\n",
    "    if token in embeddings_index:\n",
    "      asent[wrds] = embeddings_index[token]\n",
    "      wrds += 1\n",
    "      if wrds == 110:\n",
    "        break\n",
    "  #print asent\n",
    "  x_train[sntidx] = asent.flatten()\n",
    "  sntidx += 1\n",
    "x_test = x_train[100:200]\n",
    "print(x_train.shape)\n",
    "print(x_test.shape)"
   ]
  },
  {
   "cell_type": "code",
   "execution_count": null,
   "metadata": {},
   "outputs": [],
   "source": []
  },
  {
   "cell_type": "code",
   "execution_count": null,
   "metadata": {},
   "outputs": [],
   "source": []
  },
  {
   "cell_type": "code",
   "execution_count": 22,
   "metadata": {},
   "outputs": [
    {
     "name": "stdout",
     "output_type": "stream",
     "text": [
      "Train on 1096 samples, validate on 100 samples\n",
      "Epoch 1/50\n",
      "1096/1096 [==============================] - 1s 1ms/step - loss: 0.6929 - val_loss: 0.6927\n",
      "Epoch 2/50\n",
      "1096/1096 [==============================] - 1s 603us/step - loss: 0.6925 - val_loss: 0.6921\n",
      "Epoch 3/50\n",
      "1096/1096 [==============================] - 1s 638us/step - loss: 0.6918 - val_loss: 0.6909\n",
      "Epoch 4/50\n",
      "1096/1096 [==============================] - 1s 906us/step - loss: 0.6903 - val_loss: 0.6885\n",
      "Epoch 5/50\n",
      "1096/1096 [==============================] - 1s 633us/step - loss: 0.6872 - val_loss: 0.6830\n",
      "Epoch 6/50\n",
      "1096/1096 [==============================] - 1s 650us/step - loss: 0.6803 - val_loss: 0.6711\n",
      "Epoch 7/50\n",
      "1096/1096 [==============================] - 1s 668us/step - loss: 0.6653 - val_loss: 0.6460\n",
      "Epoch 8/50\n",
      "1096/1096 [==============================] - 1s 726us/step - loss: 0.6347 - val_loss: 0.5966\n",
      "Epoch 9/50\n",
      "1096/1096 [==============================] - 1s 678us/step - loss: 0.5771 - val_loss: 0.5122\n",
      "Epoch 10/50\n",
      "1096/1096 [==============================] - 1s 677us/step - loss: 0.4836 - val_loss: 0.3900\n",
      "Epoch 11/50\n",
      "1096/1096 [==============================] - 1s 666us/step - loss: 0.3566 - val_loss: 0.2431\n",
      "Epoch 12/50\n",
      "1096/1096 [==============================] - 1s 619us/step - loss: 0.2137 - val_loss: 0.0994\n",
      "Epoch 13/50\n",
      "1096/1096 [==============================] - 1s 642us/step - loss: 0.0796 - val_loss: -0.0269\n",
      "Epoch 14/50\n",
      "1096/1096 [==============================] - 1s 679us/step - loss: -0.0366 - val_loss: -0.1304\n",
      "Epoch 15/50\n",
      "1096/1096 [==============================] - 1s 813us/step - loss: -0.1265 - val_loss: -0.1994\n",
      "Epoch 16/50\n",
      "1096/1096 [==============================] - 1s 840us/step - loss: -0.1851 - val_loss: -0.2435\n",
      "Epoch 17/50\n",
      "1096/1096 [==============================] - 1s 687us/step - loss: -0.2239 - val_loss: -0.2769\n",
      "Epoch 18/50\n",
      "1096/1096 [==============================] - 1s 640us/step - loss: -0.2541 - val_loss: -0.3056\n",
      "Epoch 19/50\n",
      "1096/1096 [==============================] - 1s 645us/step - loss: -0.2799 - val_loss: -0.3305\n",
      "Epoch 20/50\n",
      "1096/1096 [==============================] - 1s 657us/step - loss: -0.3025 - val_loss: -0.3517\n",
      "Epoch 21/50\n",
      "1096/1096 [==============================] - 1s 597us/step - loss: -0.3219 - val_loss: -0.3697\n",
      "Epoch 22/50\n",
      "1096/1096 [==============================] - 1s 653us/step - loss: -0.3385 - val_loss: -0.3854\n",
      "Epoch 23/50\n",
      "1096/1096 [==============================] - 1s 669us/step - loss: -0.3530 - val_loss: -0.3986\n",
      "Epoch 24/50\n",
      "1096/1096 [==============================] - 1s 922us/step - loss: -0.3652 - val_loss: -0.4097\n",
      "Epoch 25/50\n",
      "1096/1096 [==============================] - 1s 622us/step - loss: -0.3754 - val_loss: -0.4189\n",
      "Epoch 26/50\n",
      "1096/1096 [==============================] - 1s 660us/step - loss: -0.3840 - val_loss: -0.4267\n",
      "Epoch 27/50\n",
      "1096/1096 [==============================] - 1s 652us/step - loss: -0.3913 - val_loss: -0.4331\n",
      "Epoch 28/50\n",
      "1096/1096 [==============================] - 1s 697us/step - loss: -0.3972 - val_loss: -0.4387\n",
      "Epoch 29/50\n",
      "1096/1096 [==============================] - 1s 1ms/step - loss: -0.4023 - val_loss: -0.4431\n",
      "Epoch 30/50\n",
      "1096/1096 [==============================] - 1s 843us/step - loss: -0.4066 - val_loss: -0.4468\n",
      "Epoch 31/50\n",
      "1096/1096 [==============================] - 1s 660us/step - loss: -0.4102 - val_loss: -0.4502\n",
      "Epoch 32/50\n",
      "1096/1096 [==============================] - 1s 675us/step - loss: -0.4135 - val_loss: -0.4530\n",
      "Epoch 33/50\n",
      "1096/1096 [==============================] - 1s 648us/step - loss: -0.4163 - val_loss: -0.4554\n",
      "Epoch 34/50\n",
      "1096/1096 [==============================] - 1s 658us/step - loss: -0.4187 - val_loss: -0.4577\n",
      "Epoch 35/50\n",
      "1096/1096 [==============================] - 1s 645us/step - loss: -0.4209 - val_loss: -0.4594\n",
      "Epoch 36/50\n",
      "1096/1096 [==============================] - 1s 623us/step - loss: -0.4227 - val_loss: -0.4612\n",
      "Epoch 37/50\n",
      "1096/1096 [==============================] - 1s 596us/step - loss: -0.4244 - val_loss: -0.4626\n",
      "Epoch 38/50\n",
      "1096/1096 [==============================] - 1s 619us/step - loss: -0.4258 - val_loss: -0.4638\n",
      "Epoch 39/50\n",
      "1096/1096 [==============================] - 1s 594us/step - loss: -0.4272 - val_loss: -0.4650\n",
      "Epoch 40/50\n",
      "1096/1096 [==============================] - 1s 617us/step - loss: -0.4283 - val_loss: -0.4661\n",
      "Epoch 41/50\n",
      "1096/1096 [==============================] - 1s 631us/step - loss: -0.4295 - val_loss: -0.4671\n",
      "Epoch 42/50\n",
      "1096/1096 [==============================] - 1s 620us/step - loss: -0.4304 - val_loss: -0.4679\n",
      "Epoch 43/50\n",
      "1096/1096 [==============================] - 1s 612us/step - loss: -0.4313 - val_loss: -0.4687\n",
      "Epoch 44/50\n",
      "1096/1096 [==============================] - 1s 876us/step - loss: -0.4321 - val_loss: -0.4691\n",
      "Epoch 45/50\n",
      "1096/1096 [==============================] - 1s 1ms/step - loss: -0.4328 - val_loss: -0.4697\n",
      "Epoch 46/50\n",
      "1096/1096 [==============================] - 1s 789us/step - loss: -0.4335 - val_loss: -0.4704\n",
      "Epoch 47/50\n",
      "1096/1096 [==============================] - 1s 792us/step - loss: -0.4341 - val_loss: -0.4710\n",
      "Epoch 48/50\n",
      "1096/1096 [==============================] - 1s 955us/step - loss: -0.4347 - val_loss: -0.4713\n",
      "Epoch 49/50\n",
      "1096/1096 [==============================] - 1s 735us/step - loss: -0.4352 - val_loss: -0.4717\n",
      "Epoch 50/50\n",
      "1096/1096 [==============================] - 1s 682us/step - loss: -0.4356 - val_loss: -0.4722\n"
     ]
    },
    {
     "data": {
      "text/plain": [
       "<keras.callbacks.History at 0x2181a388710>"
      ]
     },
     "execution_count": 22,
     "metadata": {},
     "output_type": "execute_result"
    }
   ],
   "source": [
    "autoencoder.fit(x_train, x_train,\n",
    "                epochs=50,\n",
    "                batch_size=256,\n",
    "                shuffle=True,\n",
    "                validation_data=(x_test, x_test))"
   ]
  },
  {
   "cell_type": "code",
   "execution_count": 23,
   "metadata": {},
   "outputs": [],
   "source": [
    "encoded = encoder.predict(x_test)\n",
    "decoded = decoder.predict(encoded)"
   ]
  },
  {
   "cell_type": "code",
   "execution_count": 25,
   "metadata": {},
   "outputs": [],
   "source": [
    "encoded_imgs = encoder.predict(x_test)\n",
    "decoded_imgs = decoder.predict(encoded_imgs)"
   ]
  },
  {
   "cell_type": "code",
   "execution_count": 31,
   "metadata": {},
   "outputs": [
    {
     "data": {
      "image/png": "[encoded data removed]",
      "text/plain": [
       "<Figure size 144x144 with 12 Axes>"
      ]
     },
     "metadata": {},
     "output_type": "display_data"
    }
   ],
   "source": [
    "import matplotlib.pyplot as plt\n",
    "\n",
    "n = 6 # how many digits we will display\n",
    "plt.figure(figsize=(2, 2))\n",
    "for i in range(n):\n",
    "    # display original\n",
    "    ax = plt.subplot(2, n, i + 1)\n",
    "    plt.imshow(x_test[i].reshape(110,50))\n",
    "    plt.gray()\n",
    "    ax.get_xaxis().set_visible(False)\n",
    "    ax.get_yaxis().set_visible(False)\n",
    "\n",
    "    # display reconstruction\n",
    "    ax = plt.subplot(2, n, i + 1 + n)\n",
    "    plt.imshow(decoded_imgs[i].reshape(110, 50))\n",
    "    plt.gray()\n",
    "    ax.get_xaxis().set_visible(False)\n",
    "    ax.get_yaxis().set_visible(False)\n",
    "plt.show()"
   ]
  },
  {
   "cell_type": "code",
   "execution_count": null,
   "metadata": {},
   "outputs": [],
   "source": []
  },
  {
   "cell_type": "code",
   "execution_count": null,
   "metadata": {},
   "outputs": [],
   "source": []
  }
 ],
 "metadata": {
  "kernelspec": {
   "display_name": "Python 3",
   "language": "python",
   "name": "python3"
  },
  "language_info": {
   "codemirror_mode": {
    "name": "ipython",
    "version": 3
   },
   "file_extension": ".py",
   "mimetype": "text/x-python",
   "name": "python",
   "nbconvert_exporter": "python",
   "pygments_lexer": "ipython3",
   "version": "3.6.5"
  }
 },
 "nbformat": 4,
 "nbformat_minor": 2
}
