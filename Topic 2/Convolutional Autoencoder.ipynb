{
 "cells": [
  {
   "cell_type": "markdown",
   "metadata": {},
   "source": [
    "This is notebook with Convolutional Autoencoder and Data visulaization"
   ]
  },
  {
   "cell_type": "code",
   "execution_count": 1,
   "metadata": {},
   "outputs": [
    {
     "name": "stderr",
     "output_type": "stream",
     "text": [
      "C:\\Users\\aishw\\Anaconda3\\lib\\site-packages\\h5py\\__init__.py:36: FutureWarning: Conversion of the second argument of issubdtype from `float` to `np.floating` is deprecated. In future, it will be treated as `np.float64 == np.dtype(float).type`.\n",
      "  from ._conv import register_converters as _register_converters\n",
      "Using TensorFlow backend.\n"
     ]
    },
    {
     "name": "stdout",
     "output_type": "stream",
     "text": [
      "[nltk_data] Downloading package punkt to\n",
      "[nltk_data]     C:\\Users\\aishw\\AppData\\Roaming\\nltk_data...\n",
      "[nltk_data]   Package punkt is already up-to-date!\n"
     ]
    }
   ],
   "source": [
    "from keras.layers import Input, Dense, Conv2D, MaxPooling2D, UpSampling2D\n",
    "from keras.models import Model\n",
    "from keras import backend as K\n",
    "import matplotlib.pyplot as plt\n",
    "from keras.callbacks import TensorBoard\n",
    "import nltk\n",
    "nltk.download('punkt')\n",
    "import numpy as np\n",
    "import pandas as pd"
   ]
  },
  {
   "cell_type": "markdown",
   "metadata": {},
   "source": [
    "Input - input Image of 200* 200* 1 dimensions. \n",
    "encoder is a stack of Conv2D and MaxPooling2D, Decoder is stack of Conv2D and UpSampling2D"
   ]
  },
  {
   "cell_type": "code",
   "execution_count": 2,
   "metadata": {},
   "outputs": [],
   "source": [
    "input_img = Input(shape=(200, 200, 1)) \n",
    "\n",
    "x = Conv2D(16, (3, 3), activation='relu', padding='same')(input_img)\n",
    "x = MaxPooling2D((10, 10), padding='same')(x)\n",
    "x = Conv2D(8, (3, 3), activation='relu', padding='same')(x)\n",
    "x = MaxPooling2D((10, 10), padding='same')(x)\n",
    "x = Conv2D(8, (3, 3), activation='linear', padding='same')(x)\n",
    "encoded = MaxPooling2D((1, 1), padding='same')(x)"
   ]
  },
  {
   "cell_type": "code",
   "execution_count": 3,
   "metadata": {},
   "outputs": [],
   "source": [
    "x = Conv2D(8, (3, 3), activation='relu', padding='same')(encoded)\n",
    "x = UpSampling2D((10, 10))(x)\n",
    "x = Conv2D(8, (3, 3), activation='relu', padding='same')(x)\n",
    "x = UpSampling2D((10, 10))(x)\n",
    "decoded = Conv2D(1, (3, 3), activation='relu')(x)\n",
    "x = UpSampling2D((1, 1))(x)\n",
    "decoded = Conv2D(1, (3, 3), activation='linear', padding='same')(x)"
   ]
  },
  {
   "cell_type": "code",
   "execution_count": null,
   "metadata": {},
   "outputs": [],
   "source": [
    "Defining Model "
   ]
  },
  {
   "cell_type": "code",
   "execution_count": 4,
   "metadata": {},
   "outputs": [],
   "source": [
    "autoencoder = Model(input_img, decoded)\n",
    "autoencoder.compile(optimizer='adadelta', loss='binary_crossentropy')"
   ]
  },
  {
   "cell_type": "markdown",
   "metadata": {},
   "source": [
    "File of 1096 dimnesion and glove of 50 Dimensions."
   ]
  },
  {
   "cell_type": "code",
   "execution_count": 5,
   "metadata": {
    "scrolled": true
   },
   "outputs": [
    {
     "name": "stdout",
     "output_type": "stream",
     "text": [
      "(1096, 40000)\n",
      "(150, 40000)\n"
     ]
    }
   ],
   "source": [
    "df = pd.read_csv(\"data_v2_1096.csv\", encoding=\"utf8\")\n",
    "docs = []\n",
    "labels = []\n",
    "#iterate over every row of the dataframe\n",
    "for index,row in df.iterrows():\n",
    "  docs.append(row[\"sent_text\"])\n",
    "  labels.append(row[\"rule_total\"])\n",
    "fn = 'glove.6B.200d.txt'\n",
    "f = open(fn, encoding=\"utf8\")\n",
    "embeddings_index = dict()\n",
    "for line in f:\n",
    "  values = line.split()\n",
    "  word = values[0]\n",
    "  coefs = np.asarray(values[1:], dtype='float32')\n",
    "  embeddings_index[word] = coefs\n",
    "\n",
    "x_train = np.zeros((index+1,40000));\n",
    "sntidx = 0\n",
    "for sent in docs:\n",
    "  tok = nltk.word_tokenize(sent.lower())\n",
    "  asent = np.zeros((200,200))\n",
    "  wrds = 0\n",
    "  for token in tok:\n",
    "    if token in embeddings_index:\n",
    "      asent[wrds] = embeddings_index[token]\n",
    "      wrds += 1\n",
    "      if wrds == 200:\n",
    "        break\n",
    "  #print asent\n",
    "  x_train[sntidx] = asent.flatten()\n",
    "  sntidx += 1\n",
    "x_test = x_train[50:200]\n",
    "print(x_train.shape)\n",
    "print(x_test.shape)"
   ]
  },
  {
   "cell_type": "code",
   "execution_count": 6,
   "metadata": {
    "scrolled": true
   },
   "outputs": [
    {
     "name": "stdout",
     "output_type": "stream",
     "text": [
      "(1096, 200, 200, 1)\n",
      "(150, 200, 200, 1)\n"
     ]
    }
   ],
   "source": [
    "x_train = np.reshape(x_train, (len(x_train), 200, 200, 1))  # adapt this if using `channels_first` image data format\n",
    "x_test = np.reshape(x_test, (len(x_test), 200, 200, 1))  \n",
    "print(x_train.shape)\n",
    "print(x_test.shape)"
   ]
  },
  {
   "cell_type": "markdown",
   "metadata": {},
   "source": [
    "training model for 150 epochs"
   ]
  },
  {
   "cell_type": "code",
   "execution_count": 7,
   "metadata": {},
   "outputs": [
    {
     "name": "stdout",
     "output_type": "stream",
     "text": [
      "Train on 1096 samples, validate on 150 samples\n",
      "Epoch 1/150\n",
      "1096/1096 [==============================] - 108s 98ms/step - loss: 0.0511 - val_loss: 0.0549\n",
      "Epoch 2/150\n",
      "1096/1096 [==============================] - 104s 95ms/step - loss: 0.0424 - val_loss: 0.0265\n",
      "Epoch 3/150\n",
      "1096/1096 [==============================] - 104s 95ms/step - loss: 0.0245 - val_loss: 0.0256\n",
      "Epoch 4/150\n",
      "1096/1096 [==============================] - 101s 92ms/step - loss: 0.0216 - val_loss: 0.0222\n",
      "Epoch 5/150\n",
      "1096/1096 [==============================] - 104s 95ms/step - loss: 0.0256 - val_loss: 0.0231\n",
      "Epoch 6/150\n",
      "1096/1096 [==============================] - 104s 95ms/step - loss: 0.0217 - val_loss: 0.0231\n",
      "Epoch 7/150\n",
      "1096/1096 [==============================] - 109s 100ms/step - loss: 0.0211 - val_loss: 0.0235\n",
      "Epoch 8/150\n",
      "1096/1096 [==============================] - 105s 96ms/step - loss: 0.0216 - val_loss: 0.0220\n",
      "Epoch 9/150\n",
      "1096/1096 [==============================] - 104s 95ms/step - loss: 0.0205 - val_loss: 0.0221\n",
      "Epoch 10/150\n",
      "1096/1096 [==============================] - 104s 95ms/step - loss: 0.0204 - val_loss: 0.0216\n",
      "Epoch 11/150\n",
      "1096/1096 [==============================] - 102s 93ms/step - loss: 0.0205 - val_loss: 0.0214\n",
      "Epoch 12/150\n",
      "1096/1096 [==============================] - 106s 97ms/step - loss: 0.0201 - val_loss: 0.0237\n",
      "Epoch 13/150\n",
      "1096/1096 [==============================] - 101s 92ms/step - loss: 0.0210 - val_loss: 0.0218\n",
      "Epoch 14/150\n",
      "1096/1096 [==============================] - 101s 92ms/step - loss: 0.0200 - val_loss: 0.0218\n",
      "Epoch 15/150\n",
      "1096/1096 [==============================] - 100s 91ms/step - loss: 0.0202 - val_loss: 0.0214\n",
      "Epoch 16/150\n",
      "1096/1096 [==============================] - 101s 92ms/step - loss: 0.0201 - val_loss: 0.0226\n",
      "Epoch 17/150\n",
      "1096/1096 [==============================] - 100s 91ms/step - loss: 0.0219 - val_loss: 0.0212\n",
      "Epoch 18/150\n",
      "1096/1096 [==============================] - 103s 94ms/step - loss: 0.0183 - val_loss: 0.0194\n",
      "Epoch 19/150\n",
      "1096/1096 [==============================] - 106s 97ms/step - loss: 0.0179 - val_loss: 0.0193\n",
      "Epoch 20/150\n",
      "1096/1096 [==============================] - 79s 72ms/step - loss: 0.0179 - val_loss: 0.0196\n",
      "Epoch 21/150\n",
      "1096/1096 [==============================] - 72s 66ms/step - loss: 0.0182 - val_loss: 0.0195\n",
      "Epoch 22/150\n",
      "1096/1096 [==============================] - 72s 66ms/step - loss: 0.0186 - val_loss: 0.0193\n",
      "Epoch 23/150\n",
      "1096/1096 [==============================] - 63s 58ms/step - loss: 0.0183 - val_loss: 0.0195\n",
      "Epoch 24/150\n",
      "1096/1096 [==============================] - 70s 64ms/step - loss: 0.0178 - val_loss: 0.0190\n",
      "Epoch 25/150\n",
      "1096/1096 [==============================] - 64s 59ms/step - loss: 0.0182 - val_loss: 0.0244\n",
      "Epoch 26/150\n",
      "1096/1096 [==============================] - 66s 60ms/step - loss: 0.0184 - val_loss: 0.0189\n",
      "Epoch 27/150\n",
      "1096/1096 [==============================] - 62s 57ms/step - loss: 0.0177 - val_loss: 0.0189\n",
      "Epoch 28/150\n",
      "1096/1096 [==============================] - 62s 57ms/step - loss: 0.0175 - val_loss: 0.0191\n",
      "Epoch 29/150\n",
      "1096/1096 [==============================] - 62s 57ms/step - loss: 0.0175 - val_loss: 0.0190\n",
      "Epoch 30/150\n",
      "1096/1096 [==============================] - 66s 60ms/step - loss: 0.0184 - val_loss: 0.0190\n",
      "Epoch 31/150\n",
      "1096/1096 [==============================] - 63s 57ms/step - loss: 0.0174 - val_loss: 0.0189\n",
      "Epoch 32/150\n",
      "1096/1096 [==============================] - 63s 57ms/step - loss: 0.0175 - val_loss: 0.0197\n",
      "Epoch 33/150\n",
      "1096/1096 [==============================] - 71s 65ms/step - loss: 0.0175 - val_loss: 0.0231\n",
      "Epoch 34/150\n",
      "1096/1096 [==============================] - 66s 60ms/step - loss: 0.0180 - val_loss: 0.0197\n",
      "Epoch 35/150\n",
      "1096/1096 [==============================] - 62s 57ms/step - loss: 0.0188 - val_loss: 0.0188\n",
      "Epoch 36/150\n",
      "1096/1096 [==============================] - 62s 57ms/step - loss: 0.0208 - val_loss: 0.0194\n",
      "Epoch 37/150\n",
      "1096/1096 [==============================] - 62s 56ms/step - loss: 0.0175 - val_loss: 0.0188\n",
      "Epoch 38/150\n",
      "1096/1096 [==============================] - 62s 56ms/step - loss: 0.0173 - val_loss: 0.0503\n",
      "Epoch 39/150\n",
      "1096/1096 [==============================] - 62s 56ms/step - loss: 0.0206 - val_loss: 0.0187\n",
      "Epoch 40/150\n",
      "1096/1096 [==============================] - 64s 59ms/step - loss: 0.0175 - val_loss: 0.0186\n",
      "Epoch 41/150\n",
      "1096/1096 [==============================] - 63s 57ms/step - loss: 0.0175 - val_loss: 0.0190\n",
      "Epoch 42/150\n",
      "1096/1096 [==============================] - 62s 56ms/step - loss: 0.0187 - val_loss: 0.0188\n",
      "Epoch 43/150\n",
      "1096/1096 [==============================] - 64s 59ms/step - loss: 0.0190 - val_loss: 0.0190\n",
      "Epoch 44/150\n",
      "1096/1096 [==============================] - 65s 59ms/step - loss: 0.0176 - val_loss: 0.0191\n",
      "Epoch 45/150\n",
      "1096/1096 [==============================] - 67s 61ms/step - loss: 0.0174 - val_loss: 0.0187\n",
      "Epoch 46/150\n",
      "1096/1096 [==============================] - 63s 57ms/step - loss: 0.0173 - val_loss: 0.0189\n",
      "Epoch 47/150\n",
      "1096/1096 [==============================] - 61s 56ms/step - loss: 0.0172 - val_loss: 0.0184\n",
      "Epoch 48/150\n",
      "1096/1096 [==============================] - 65s 59ms/step - loss: 0.0173 - val_loss: 0.0190\n",
      "Epoch 49/150\n",
      "1096/1096 [==============================] - 68s 62ms/step - loss: 0.0173 - val_loss: 0.0184\n",
      "Epoch 50/150\n",
      "1096/1096 [==============================] - 63s 57ms/step - loss: 0.0171 - val_loss: 0.0184\n",
      "Epoch 51/150\n",
      "1096/1096 [==============================] - 63s 57ms/step - loss: 0.0172 - val_loss: 0.0205\n",
      "Epoch 52/150\n",
      "1096/1096 [==============================] - 62s 57ms/step - loss: 0.0185 - val_loss: 0.0219\n",
      "Epoch 53/150\n",
      "1096/1096 [==============================] - 64s 58ms/step - loss: 0.0182 - val_loss: 0.0190\n",
      "Epoch 54/150\n",
      "1096/1096 [==============================] - 62s 57ms/step - loss: 0.0176 - val_loss: 0.0185\n",
      "Epoch 55/150\n",
      "1096/1096 [==============================] - 2480s 2s/step - loss: 0.0175 - val_loss: 0.0185\n",
      "Epoch 56/150\n",
      "1096/1096 [==============================] - 62s 57ms/step - loss: 0.0175 - val_loss: 0.0185\n",
      "Epoch 57/150\n",
      "1096/1096 [==============================] - 61s 56ms/step - loss: 0.0174 - val_loss: 0.0197\n",
      "Epoch 58/150\n",
      "1096/1096 [==============================] - 61s 56ms/step - loss: 0.0181 - val_loss: 0.0192\n",
      "Epoch 59/150\n",
      "1096/1096 [==============================] - 61s 56ms/step - loss: 0.0178 - val_loss: 0.0190\n",
      "Epoch 60/150\n",
      "1096/1096 [==============================] - 61s 56ms/step - loss: 0.0179 - val_loss: 0.0192\n",
      "Epoch 61/150\n",
      "1096/1096 [==============================] - 123s 112ms/step - loss: 0.0178 - val_loss: 0.0188\n",
      "Epoch 62/150\n",
      "1096/1096 [==============================] - 62s 57ms/step - loss: 0.0174 - val_loss: 0.0187\n",
      "Epoch 63/150\n",
      "1096/1096 [==============================] - 62s 57ms/step - loss: 0.0173 - val_loss: 0.0186\n",
      "Epoch 64/150\n",
      "1096/1096 [==============================] - 62s 57ms/step - loss: 0.0171 - val_loss: 0.0185\n",
      "Epoch 65/150\n",
      "1096/1096 [==============================] - 63s 57ms/step - loss: 0.0171 - val_loss: 0.0185\n",
      "Epoch 66/150\n",
      "1096/1096 [==============================] - 62s 56ms/step - loss: 0.0173 - val_loss: 0.0189\n",
      "Epoch 67/150\n",
      "1096/1096 [==============================] - 2055s 2s/step - loss: 0.0174 - val_loss: 0.0185\n",
      "Epoch 68/150\n",
      "1096/1096 [==============================] - 86s 79ms/step - loss: 0.0171 - val_loss: 0.0184\n",
      "Epoch 69/150\n",
      "1096/1096 [==============================] - 100s 92ms/step - loss: 0.0170 - val_loss: 0.0185\n",
      "Epoch 70/150\n",
      "1096/1096 [==============================] - 104s 95ms/step - loss: 0.0171 - val_loss: 0.0187\n",
      "Epoch 71/150\n",
      "1096/1096 [==============================] - 104s 95ms/step - loss: 0.0170 - val_loss: 0.0183\n",
      "Epoch 72/150\n",
      "1096/1096 [==============================] - 115s 105ms/step - loss: 0.0169 - val_loss: 0.0186\n",
      "Epoch 73/150\n",
      "1096/1096 [==============================] - 68s 62ms/step - loss: 0.0169 - val_loss: 0.0184\n",
      "Epoch 74/150\n",
      "1096/1096 [==============================] - 103s 94ms/step - loss: 0.0169 - val_loss: 0.0186\n",
      "Epoch 75/150\n",
      "1096/1096 [==============================] - 104s 95ms/step - loss: 0.0181 - val_loss: 0.0194\n",
      "Epoch 76/150\n",
      "1096/1096 [==============================] - 103s 94ms/step - loss: 0.0171 - val_loss: 0.0181\n",
      "Epoch 77/150\n",
      "1096/1096 [==============================] - 107s 97ms/step - loss: 0.0168 - val_loss: 0.0181\n",
      "Epoch 78/150\n",
      "1096/1096 [==============================] - 105s 96ms/step - loss: 0.0166 - val_loss: 0.0183\n",
      "Epoch 79/150\n",
      "1096/1096 [==============================] - 105s 95ms/step - loss: 0.0178 - val_loss: 0.0299\n",
      "Epoch 80/150\n",
      "1096/1096 [==============================] - 107s 98ms/step - loss: 0.0188 - val_loss: 0.0178\n",
      "Epoch 81/150\n",
      "1096/1096 [==============================] - 108s 98ms/step - loss: 0.0161 - val_loss: 0.0174\n",
      "Epoch 82/150\n",
      "1096/1096 [==============================] - 108s 99ms/step - loss: 0.0156 - val_loss: 0.0168\n",
      "Epoch 83/150\n",
      "1096/1096 [==============================] - 108s 98ms/step - loss: 0.0203 - val_loss: 0.0166\n",
      "Epoch 84/150\n",
      "1096/1096 [==============================] - 107s 98ms/step - loss: 0.0155 - val_loss: 0.0174\n",
      "Epoch 85/150\n",
      "1096/1096 [==============================] - 108s 98ms/step - loss: 0.0156 - val_loss: 0.0167\n",
      "Epoch 86/150\n",
      "1096/1096 [==============================] - 107s 98ms/step - loss: 0.0152 - val_loss: 0.0167\n",
      "Epoch 87/150\n",
      "1096/1096 [==============================] - 107s 98ms/step - loss: 0.0158 - val_loss: 0.0189\n",
      "Epoch 88/150\n",
      "1096/1096 [==============================] - 107s 98ms/step - loss: 0.0159 - val_loss: 0.0167\n",
      "Epoch 89/150\n",
      "1096/1096 [==============================] - 105s 96ms/step - loss: 0.0155 - val_loss: 0.0169\n",
      "Epoch 90/150\n",
      "1096/1096 [==============================] - 105s 96ms/step - loss: 0.0162 - val_loss: 0.0172\n",
      "Epoch 91/150\n",
      "1096/1096 [==============================] - 103s 94ms/step - loss: 0.0152 - val_loss: 0.0165\n",
      "Epoch 92/150\n",
      "1096/1096 [==============================] - 11039s 10s/step - loss: 0.0151 - val_loss: 0.0179\n",
      "Epoch 93/150\n",
      "1096/1096 [==============================] - 88s 81ms/step - loss: 0.0153 - val_loss: 0.0163\n",
      "Epoch 94/150\n",
      "1096/1096 [==============================] - 65s 60ms/step - loss: 0.0155 - val_loss: 0.0161\n",
      "Epoch 95/150\n",
      "1096/1096 [==============================] - 64s 58ms/step - loss: 0.0196 - val_loss: 0.0203\n",
      "Epoch 96/150\n",
      "1096/1096 [==============================] - 79s 72ms/step - loss: 0.0167 - val_loss: 0.0168\n",
      "Epoch 97/150\n",
      "1096/1096 [==============================] - 72s 65ms/step - loss: 0.0151 - val_loss: 0.0161\n",
      "Epoch 98/150\n",
      "1096/1096 [==============================] - 80s 73ms/step - loss: 0.0148 - val_loss: 0.0160\n",
      "Epoch 99/150\n",
      "1096/1096 [==============================] - 72s 65ms/step - loss: 0.0158 - val_loss: 0.0159\n",
      "Epoch 100/150\n",
      "1096/1096 [==============================] - 65s 59ms/step - loss: 0.0166 - val_loss: 0.0248\n",
      "Epoch 101/150\n",
      "1096/1096 [==============================] - 65s 59ms/step - loss: 0.0157 - val_loss: 0.0161\n",
      "Epoch 102/150\n",
      "1096/1096 [==============================] - 65s 60ms/step - loss: 0.0147 - val_loss: 0.0158\n",
      "Epoch 103/150\n",
      "1096/1096 [==============================] - 67s 61ms/step - loss: 0.0146 - val_loss: 0.0165\n",
      "Epoch 104/150\n",
      "1096/1096 [==============================] - 69s 63ms/step - loss: 0.0147 - val_loss: 0.0159\n",
      "Epoch 105/150\n",
      "1096/1096 [==============================] - 72s 65ms/step - loss: 0.0145 - val_loss: 0.0159\n",
      "Epoch 106/150\n",
      "1096/1096 [==============================] - 70s 64ms/step - loss: 0.0147 - val_loss: 0.0159\n",
      "Epoch 107/150\n",
      "1096/1096 [==============================] - 66s 61ms/step - loss: 0.0145 - val_loss: 0.0160\n",
      "Epoch 108/150\n",
      "1096/1096 [==============================] - 65s 59ms/step - loss: 0.0144 - val_loss: 0.0159\n",
      "Epoch 109/150\n",
      "1096/1096 [==============================] - 66s 60ms/step - loss: 0.0146 - val_loss: 0.0159\n",
      "Epoch 110/150\n",
      "1096/1096 [==============================] - 65s 59ms/step - loss: 0.0145 - val_loss: 0.0159\n",
      "Epoch 111/150\n",
      "1096/1096 [==============================] - 66s 61ms/step - loss: 0.0147 - val_loss: 0.0182\n",
      "Epoch 112/150\n",
      "1096/1096 [==============================] - 65s 59ms/step - loss: 0.0155 - val_loss: 0.0161\n",
      "Epoch 113/150\n",
      "1096/1096 [==============================] - 65s 60ms/step - loss: 0.0146 - val_loss: 0.0160\n",
      "Epoch 114/150\n",
      "1096/1096 [==============================] - 66s 60ms/step - loss: 0.0153 - val_loss: 0.0159\n",
      "Epoch 115/150\n",
      "1096/1096 [==============================] - 65s 59ms/step - loss: 0.0145 - val_loss: 0.0158\n",
      "Epoch 116/150\n",
      "1096/1096 [==============================] - 65s 59ms/step - loss: 0.0152 - val_loss: 0.0161\n",
      "Epoch 117/150\n",
      "1096/1096 [==============================] - 67s 61ms/step - loss: 0.0146 - val_loss: 0.0158\n",
      "Epoch 118/150\n",
      "1096/1096 [==============================] - 67s 61ms/step - loss: 0.0145 - val_loss: 0.0157\n",
      "Epoch 119/150\n",
      "1096/1096 [==============================] - 66s 60ms/step - loss: 0.0153 - val_loss: 0.0159\n",
      "Epoch 120/150\n",
      "1096/1096 [==============================] - 66s 60ms/step - loss: 0.0146 - val_loss: 0.0159\n",
      "Epoch 121/150\n",
      "1096/1096 [==============================] - 66s 60ms/step - loss: 0.0145 - val_loss: 0.0157\n",
      "Epoch 122/150\n",
      "1096/1096 [==============================] - 69s 63ms/step - loss: 0.0147 - val_loss: 0.0156\n",
      "Epoch 123/150\n",
      "1096/1096 [==============================] - 65s 60ms/step - loss: 0.0143 - val_loss: 0.0157\n",
      "Epoch 124/150\n",
      "1096/1096 [==============================] - 66s 60ms/step - loss: 0.0144 - val_loss: 0.0156\n",
      "Epoch 125/150\n",
      "1096/1096 [==============================] - 69s 63ms/step - loss: 0.0165 - val_loss: 0.0161\n",
      "Epoch 126/150\n",
      "1096/1096 [==============================] - 68s 62ms/step - loss: 0.0144 - val_loss: 0.0156\n",
      "Epoch 127/150\n",
      "1096/1096 [==============================] - 66s 61ms/step - loss: 0.0143 - val_loss: 0.0168\n",
      "Epoch 128/150\n",
      "1096/1096 [==============================] - 65s 59ms/step - loss: 0.0143 - val_loss: 0.0156\n",
      "Epoch 129/150\n",
      "1096/1096 [==============================] - 67s 61ms/step - loss: 0.0146 - val_loss: 0.0156\n",
      "Epoch 130/150\n",
      "1096/1096 [==============================] - 66s 60ms/step - loss: 0.0142 - val_loss: 0.0155\n",
      "Epoch 131/150\n",
      "1096/1096 [==============================] - 67s 61ms/step - loss: 0.0142 - val_loss: 0.0156\n",
      "Epoch 132/150\n",
      "1096/1096 [==============================] - 66s 60ms/step - loss: 0.0153 - val_loss: 0.0157\n",
      "Epoch 133/150\n",
      "1096/1096 [==============================] - 66s 60ms/step - loss: 0.0144 - val_loss: 0.0157\n",
      "Epoch 134/150\n",
      "1096/1096 [==============================] - 70s 64ms/step - loss: 0.0142 - val_loss: 0.0155\n",
      "Epoch 135/150\n",
      "1096/1096 [==============================] - 67s 61ms/step - loss: 0.0142 - val_loss: 0.0156\n",
      "Epoch 136/150\n",
      "1096/1096 [==============================] - 66s 60ms/step - loss: 0.0143 - val_loss: 0.0156\n",
      "Epoch 137/150\n",
      "1096/1096 [==============================] - 68s 62ms/step - loss: 0.0145 - val_loss: 0.0162\n",
      "Epoch 138/150\n",
      "1096/1096 [==============================] - 67s 61ms/step - loss: 0.0152 - val_loss: 0.0180\n",
      "Epoch 139/150\n",
      "1096/1096 [==============================] - 65s 59ms/step - loss: 0.0148 - val_loss: 0.0158\n",
      "Epoch 140/150\n",
      "1096/1096 [==============================] - 65s 59ms/step - loss: 0.0146 - val_loss: 0.0159\n",
      "Epoch 141/150\n",
      "1096/1096 [==============================] - 65s 59ms/step - loss: 0.0146 - val_loss: 0.0157\n",
      "Epoch 142/150\n",
      "1096/1096 [==============================] - 65s 60ms/step - loss: 0.0144 - val_loss: 0.0159\n",
      "Epoch 143/150\n",
      "1096/1096 [==============================] - 65s 60ms/step - loss: 0.0144 - val_loss: 0.0157\n",
      "Epoch 144/150\n",
      "1096/1096 [==============================] - 32469s 30s/step - loss: 0.0144 - val_loss: 0.0157\n",
      "Epoch 145/150\n",
      "1096/1096 [==============================] - 83s 76ms/step - loss: 0.0143 - val_loss: 0.0163\n",
      "Epoch 146/150\n",
      "1096/1096 [==============================] - 72s 65ms/step - loss: 0.0142 - val_loss: 0.0160\n",
      "Epoch 147/150\n",
      "1096/1096 [==============================] - 70s 64ms/step - loss: 0.0143 - val_loss: 0.0163\n",
      "Epoch 148/150\n",
      "1096/1096 [==============================] - 71s 64ms/step - loss: 0.0143 - val_loss: 0.0156\n",
      "Epoch 149/150\n",
      "1096/1096 [==============================] - 70s 64ms/step - loss: 0.0144 - val_loss: 0.0155\n",
      "Epoch 150/150\n",
      "1096/1096 [==============================] - 70s 64ms/step - loss: 0.0142 - val_loss: 0.0156\n"
     ]
    },
    {
     "data": {
      "text/plain": [
       "<keras.callbacks.History at 0x16e4b678f98>"
      ]
     },
     "execution_count": 7,
     "metadata": {},
     "output_type": "execute_result"
    }
   ],
   "source": [
    "autoencoder.fit(x_train, x_train,\n",
    "                epochs=150,\n",
    "                batch_size=64,\n",
    "                shuffle=True,\n",
    "                validation_data=(x_test, x_test),\n",
    "                callbacks=[TensorBoard(log_dir='/tmp/autoencoder')])"
   ]
  },
  {
   "cell_type": "code",
   "execution_count": 8,
   "metadata": {
    "scrolled": true
   },
   "outputs": [
    {
     "data": {
      "image/png": "[encoded data removed]",
      "text/plain": [
       "<Figure size 1440x288 with 20 Axes>"
      ]
     },
     "metadata": {},
     "output_type": "display_data"
    }
   ],
   "source": [
    "decoded_imgs = autoencoder.predict(x_test)\n",
    "\n",
    "n = 10\n",
    "plt.figure(figsize=(20, 4))\n",
    "for i in range(n):\n",
    "    # display original\n",
    "    ax = plt.subplot(2, n,i+1)\n",
    "    plt.imshow(x_test[i].reshape(200, 200))\n",
    "    plt.gray()\n",
    "    ax.get_xaxis().set_visible(False)\n",
    "    ax.get_yaxis().set_visible(False)\n",
    "\n",
    "    # display reconstruction\n",
    "    ax = plt.subplot(2, n, i+1+n)\n",
    "    plt.imshow(decoded_imgs[i].reshape(200, 200))\n",
    "    plt.gray()\n",
    "    ax.get_xaxis().set_visible(False)\n",
    "    ax.get_yaxis().set_visible(False)\n",
    "plt.savefig('cae.png', dpi=350)\n",
    "plt.show()"
   ]
  },
  {
   "cell_type": "code",
   "execution_count": 10,
   "metadata": {},
   "outputs": [],
   "source": []
  },
  {
   "cell_type": "markdown",
   "metadata": {},
   "source": []
  },
  {
   "cell_type": "code",
   "execution_count": null,
   "metadata": {},
   "outputs": [],
   "source": []
  },
  {
   "cell_type": "code",
   "execution_count": null,
   "metadata": {},
   "outputs": [],
   "source": []
  },
  {
   "cell_type": "code",
   "execution_count": null,
   "metadata": {},
   "outputs": [],
   "source": []
  },
  {
   "cell_type": "code",
   "execution_count": null,
   "metadata": {},
   "outputs": [],
   "source": []
  }
 ],
 "metadata": {
  "kernelspec": {
   "display_name": "Python 3",
   "language": "python",
   "name": "python3"
  },
  "language_info": {
   "codemirror_mode": {
    "name": "ipython",
    "version": 3
   },
   "file_extension": ".py",
   "mimetype": "text/x-python",
   "name": "python",
   "nbconvert_exporter": "python",
   "pygments_lexer": "ipython3",
   "version": "3.6.5"
  }
 },
 "nbformat": 4,
 "nbformat_minor": 2
}
